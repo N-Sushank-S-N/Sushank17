{
 "cells": [
  {
   "cell_type": "markdown",
   "id": "119b1ba4-f30f-4ade-aa90-ef47c3a765f5",
   "metadata": {},
   "source": [
    "# CSI3007 -- REGNO: 22MID0132 -- LAB_NO:7 -- 05/08/2025"
   ]
  },
  {
   "cell_type": "code",
   "execution_count": null,
   "id": "ca12b896-09cd-4559-b775-ce0f7b913ecf",
   "metadata": {},
   "outputs": [],
   "source": [
    "# simple function in pyhton"
   ]
  },
  {
   "cell_type": "code",
   "execution_count": 2,
   "id": "3cb86a2a-fd50-4de3-8cdd-83170620d354",
   "metadata": {},
   "outputs": [
    {
     "data": {
      "text/plain": [
       "10"
      ]
     },
     "execution_count": 2,
     "metadata": {},
     "output_type": "execute_result"
    }
   ],
   "source": [
    "def double(x):\n",
    "    return x*2\n",
    "double(5)"
   ]
  },
  {
   "cell_type": "code",
   "execution_count": 3,
   "id": "51285a34-db30-4e72-8371-bc506a58324e",
   "metadata": {},
   "outputs": [
    {
     "data": {
      "text/plain": [
       "40"
      ]
     },
     "execution_count": 3,
     "metadata": {},
     "output_type": "execute_result"
    }
   ],
   "source": [
    "def add(x,y):\n",
    "    return(x+y)\n",
    "add(10,30)"
   ]
  },
  {
   "cell_type": "code",
   "execution_count": 4,
   "id": "97179fd4-b123-42f9-9efc-ab94254ce6fc",
   "metadata": {},
   "outputs": [
    {
     "data": {
      "text/plain": [
       "7"
      ]
     },
     "execution_count": 4,
     "metadata": {},
     "output_type": "execute_result"
    }
   ],
   "source": [
    "def mx(x,y):\n",
    "    if x>y:\n",
    "        return x\n",
    "    else:\n",
    "        return y\n",
    "mx(7,4)"
   ]
  },
  {
   "cell_type": "markdown",
   "id": "732561c3-361d-4d54-be11-8cd02e3fd630",
   "metadata": {},
   "source": []
  },
  {
   "cell_type": "code",
   "execution_count": 5,
   "id": "d66731de-b9a2-48c2-9c79-b68f67c49767",
   "metadata": {},
   "outputs": [
    {
     "data": {
      "text/plain": [
       "8"
      ]
     },
     "execution_count": 5,
     "metadata": {},
     "output_type": "execute_result"
    }
   ],
   "source": [
    "def mx(x,y):\n",
    "    if x>y:\n",
    "        return x\n",
    "    else:\n",
    "        return y\n",
    "mx(4,8)\n"
   ]
  },
  {
   "cell_type": "code",
   "execution_count": 6,
   "id": "2a18e6e6-1ec9-41dd-8133-18551c891c18",
   "metadata": {},
   "outputs": [],
   "source": [
    "# lambda functions in python"
   ]
  },
  {
   "cell_type": "code",
   "execution_count": 7,
   "id": "13a19c10-360a-4fb1-9610-08d2898bbb04",
   "metadata": {},
   "outputs": [
    {
     "data": {
      "text/plain": [
       "<function __main__.<lambda>(x)>"
      ]
     },
     "execution_count": 7,
     "metadata": {},
     "output_type": "execute_result"
    }
   ],
   "source": [
    "lambda x:x*2 "
   ]
  },
  {
   "cell_type": "code",
   "execution_count": 8,
   "id": "183acd99-f8a1-4b8a-9f31-a098be088f05",
   "metadata": {},
   "outputs": [
    {
     "name": "stdout",
     "output_type": "stream",
     "text": [
      "7\n"
     ]
    }
   ],
   "source": [
    "# lambda function call\n",
    "res=(lambda x,y: x+y)(3,4)\n",
    "print(res)"
   ]
  },
  {
   "cell_type": "code",
   "execution_count": 9,
   "id": "56c832b9-b4f8-4742-a787-253de677a901",
   "metadata": {},
   "outputs": [
    {
     "name": "stdout",
     "output_type": "stream",
     "text": [
      "1\n",
      "2\n",
      "3\n",
      "4\n",
      "5\n"
     ]
    }
   ],
   "source": [
    "# simple loop traversal in a list\n",
    "ml=[1,2,3,4,5] \n",
    "for i in ml:\n",
    "    print(i)"
   ]
  },
  {
   "cell_type": "code",
   "execution_count": 10,
   "id": "51aa7240-60fe-401c-8ba6-cd45a6050b2e",
   "metadata": {},
   "outputs": [
    {
     "ename": "TypeError",
     "evalue": "'int' object is not iterable",
     "output_type": "error",
     "traceback": [
      "\u001b[0;31m---------------------------------------------------------------------------\u001b[0m",
      "\u001b[0;31mTypeError\u001b[0m                                 Traceback (most recent call last)",
      "Cell \u001b[0;32mIn[10], line 2\u001b[0m\n\u001b[1;32m      1\u001b[0m n\u001b[38;5;241m=\u001b[39m \u001b[38;5;241m12345\u001b[39m\n\u001b[0;32m----> 2\u001b[0m \u001b[38;5;28;01mfor\u001b[39;00m i \u001b[38;5;129;01min\u001b[39;00m n:\n\u001b[1;32m      3\u001b[0m     \u001b[38;5;28mprint\u001b[39m(i)\n",
      "\u001b[0;31mTypeError\u001b[0m: 'int' object is not iterable"
     ]
    }
   ],
   "source": [
    "n= 12345\n",
    "for i in n:\n",
    "    print(i)"
   ]
  },
  {
   "cell_type": "code",
   "execution_count": 11,
   "id": "617568cd-ffe9-4987-ad55-8f10f8349320",
   "metadata": {},
   "outputs": [
    {
     "name": "stdout",
     "output_type": "stream",
     "text": [
      "1\n",
      "2\n",
      "3\n",
      "4\n",
      "5\n"
     ]
    }
   ],
   "source": [
    "n= '12345' # otherwise str(n) can be used\n",
    "for i in n:\n",
    "    print(i)\n"
   ]
  },
  {
   "cell_type": "code",
   "execution_count": 12,
   "id": "c40d5644-cd05-4f9c-83bd-8bc63cca6dae",
   "metadata": {},
   "outputs": [
    {
     "name": "stdout",
     "output_type": "stream",
     "text": [
      "[4, 5, 6, 7, 8, 9]\n"
     ]
    }
   ],
   "source": [
    "c=456789\n",
    "digits=[ int(d) for d in str(c)]\n",
    "print(digits)"
   ]
  },
  {
   "cell_type": "code",
   "execution_count": 13,
   "id": "3f01ecc3-0c86-4103-9820-72863656b5b5",
   "metadata": {},
   "outputs": [
    {
     "name": "stdout",
     "output_type": "stream",
     "text": [
      "4\n",
      "5\n",
      "6\n",
      "7\n",
      "8\n",
      "9\n"
     ]
    }
   ],
   "source": [
    "for digit in digits:\n",
    "    print(digit)"
   ]
  },
  {
   "cell_type": "code",
   "execution_count": 14,
   "id": "661829ce-47c2-4cac-b2c5-599296e20ea5",
   "metadata": {},
   "outputs": [
    {
     "name": "stdout",
     "output_type": "stream",
     "text": [
      "['__add__', '__class__', '__class_getitem__', '__contains__', '__delattr__', '__delitem__', '__dir__', '__doc__', '__eq__', '__format__', '__ge__', '__getattribute__', '__getitem__', '__getstate__', '__gt__', '__hash__', '__iadd__', '__imul__', '__init__', '__init_subclass__', '__iter__', '__le__', '__len__', '__lt__', '__mul__', '__ne__', '__new__', '__reduce__', '__reduce_ex__', '__repr__', '__reversed__', '__rmul__', '__setattr__', '__setitem__', '__sizeof__', '__str__', '__subclasshook__', 'append', 'clear', 'copy', 'count', 'extend', 'index', 'insert', 'pop', 'remove', 'reverse', 'sort']\n"
     ]
    }
   ],
   "source": [
    "print(dir(ml)) # will give all the function that can be performed over this"
   ]
  },
  {
   "cell_type": "code",
   "execution_count": null,
   "id": "d1918de7-e4c0-42c4-823e-3c9a41ddf27a",
   "metadata": {},
   "outputs": [],
   "source": [
    "# if we get iter then it is an iterable element."
   ]
  },
  {
   "cell_type": "code",
   "execution_count": 15,
   "id": "2048d815-e937-46de-83a9-c91f80877448",
   "metadata": {},
   "outputs": [],
   "source": [
    "names=['ema','tom','hinton']\n",
    "l=names.__iter__() # also can be written as -- iter(names)"
   ]
  },
  {
   "cell_type": "code",
   "execution_count": 16,
   "id": "b1474d04-4f6a-45d9-b79a-a797dd4033f2",
   "metadata": {},
   "outputs": [
    {
     "data": {
      "text/plain": [
       "list"
      ]
     },
     "execution_count": 16,
     "metadata": {},
     "output_type": "execute_result"
    }
   ],
   "source": [
    "type(names)"
   ]
  },
  {
   "cell_type": "code",
   "execution_count": 17,
   "id": "4457f1e0-638c-4def-94ac-f975d1d9e397",
   "metadata": {},
   "outputs": [
    {
     "data": {
      "text/plain": [
       "list_iterator"
      ]
     },
     "execution_count": 17,
     "metadata": {},
     "output_type": "execute_result"
    }
   ],
   "source": [
    "type(l)"
   ]
  },
  {
   "cell_type": "code",
   "execution_count": 18,
   "id": "9cc87452-cd76-4b4d-94fd-25deff23c21c",
   "metadata": {},
   "outputs": [
    {
     "name": "stdout",
     "output_type": "stream",
     "text": [
      "ema\n"
     ]
    }
   ],
   "source": [
    "names=['ema','tom','hinton']\n",
    "lp=iter(names)\n",
    "print(next(lp))"
   ]
  },
  {
   "cell_type": "code",
   "execution_count": 19,
   "id": "a9f183b4-0e8c-43e6-9d68-69655a117db1",
   "metadata": {},
   "outputs": [
    {
     "name": "stdout",
     "output_type": "stream",
     "text": [
      "tom\n"
     ]
    }
   ],
   "source": [
    "print(next(lp)) # it remembers where it was last time."
   ]
  },
  {
   "cell_type": "code",
   "execution_count": 20,
   "id": "052c3b13-00dd-4c0b-a549-d62df919449f",
   "metadata": {},
   "outputs": [
    {
     "name": "stdout",
     "output_type": "stream",
     "text": [
      "hinton\n"
     ]
    }
   ],
   "source": [
    "print(next(lp))"
   ]
  },
  {
   "cell_type": "code",
   "execution_count": 21,
   "id": "0d4a4d6a-ce9a-42db-a2c3-8c4030e1a9eb",
   "metadata": {},
   "outputs": [
    {
     "ename": "StopIteration",
     "evalue": "",
     "output_type": "error",
     "traceback": [
      "\u001b[0;31m---------------------------------------------------------------------------\u001b[0m",
      "\u001b[0;31mStopIteration\u001b[0m                             Traceback (most recent call last)",
      "Cell \u001b[0;32mIn[21], line 1\u001b[0m\n\u001b[0;32m----> 1\u001b[0m \u001b[38;5;28mprint\u001b[39m(\u001b[38;5;28mnext\u001b[39m(lp))\n",
      "\u001b[0;31mStopIteration\u001b[0m: "
     ]
    }
   ],
   "source": [
    "print(next(lp))"
   ]
  },
  {
   "cell_type": "code",
   "execution_count": 22,
   "id": "83f9a519-73c3-40b6-b658-724e0bc5f59f",
   "metadata": {},
   "outputs": [
    {
     "ename": "TypeError",
     "evalue": "'list' object is not an iterator",
     "output_type": "error",
     "traceback": [
      "\u001b[0;31m---------------------------------------------------------------------------\u001b[0m",
      "\u001b[0;31mTypeError\u001b[0m                                 Traceback (most recent call last)",
      "Cell \u001b[0;32mIn[22], line 4\u001b[0m\n\u001b[1;32m      2\u001b[0m \u001b[38;5;28;01mwhile\u001b[39;00m \u001b[38;5;28;01mTrue\u001b[39;00m:\n\u001b[1;32m      3\u001b[0m     \u001b[38;5;28;01mtry\u001b[39;00m:\n\u001b[0;32m----> 4\u001b[0m         name\u001b[38;5;241m=\u001b[39m\u001b[38;5;28mnext\u001b[39m(names)\n\u001b[1;32m      5\u001b[0m         \u001b[38;5;28mprint\u001b[39m(name)\n\u001b[1;32m      6\u001b[0m     \u001b[38;5;28;01mexcept\u001b[39;00m \u001b[38;5;167;01mStopIteration\u001b[39;00m:\n",
      "\u001b[0;31mTypeError\u001b[0m: 'list' object is not an iterator"
     ]
    }
   ],
   "source": [
    "looper=iter(names)\n",
    "while True:\n",
    "    try:\n",
    "        name=next(names)\n",
    "        print(name)\n",
    "    except StopIteration:\n",
    "        break"
   ]
  },
  {
   "cell_type": "code",
   "execution_count": 23,
   "id": "39d3cc1a-ae4a-4473-894e-4317f5f9e262",
   "metadata": {},
   "outputs": [
    {
     "name": "stdout",
     "output_type": "stream",
     "text": [
      "ema\n",
      "tom\n",
      "hinton\n"
     ]
    }
   ],
   "source": [
    "looper=iter(names)\n",
    "while True:\n",
    "    try:\n",
    "        name=next(looper)\n",
    "        print(name)\n",
    "    except StopIteration:\n",
    "        break\n"
   ]
  },
  {
   "cell_type": "code",
   "execution_count": 24,
   "id": "fb356204-d1ed-40bf-921b-22182ce90f82",
   "metadata": {},
   "outputs": [
    {
     "name": "stdout",
     "output_type": "stream",
     "text": [
      "<map object at 0x703a841ac0a0>\n"
     ]
    }
   ],
   "source": [
    "def square(x):\n",
    "    return x*x\n",
    "n=[1,2,3,4,5]\n",
    "print(map(square,n))"
   ]
  },
  {
   "cell_type": "code",
   "execution_count": 25,
   "id": "02c172e5-aa43-439e-88c6-4fcedb439b91",
   "metadata": {},
   "outputs": [
    {
     "name": "stdout",
     "output_type": "stream",
     "text": [
      "[1, 4, 9, 16, 25]\n"
     ]
    }
   ],
   "source": [
    "def square(x):\n",
    "    return x*x\n",
    "n=[1,2,3,4,5]\n",
    "print(list(map(square,n)))\n"
   ]
  },
  {
   "cell_type": "code",
   "execution_count": 26,
   "id": "6680822c-3e57-4332-9b35-8c13a7462325",
   "metadata": {},
   "outputs": [
    {
     "name": "stdout",
     "output_type": "stream",
     "text": [
      "[1, 4, 9, 16, 25]\n"
     ]
    }
   ],
   "source": [
    "a=lambda x:x*x\n",
    "n=[1,2,3,4,5]\n",
    "print(list(map(a,n)))\n",
    "# it iterates elements one by one."
   ]
  },
  {
   "cell_type": "code",
   "execution_count": 27,
   "id": "5b97f09f-bbef-4852-bfc3-474f0b85b0d8",
   "metadata": {},
   "outputs": [
    {
     "name": "stdout",
     "output_type": "stream",
     "text": [
      "[1, 4, 9, 16, 25]\n"
     ]
    }
   ],
   "source": [
    "#other way to write\n",
    "n=[1,2,3,4,5]\n",
    "print(list(map(lambda x:x*x,n)))"
   ]
  },
  {
   "cell_type": "code",
   "execution_count": 28,
   "id": "43fc4069-0225-4adc-8779-26b3a0dcc46f",
   "metadata": {},
   "outputs": [
    {
     "name": "stdout",
     "output_type": "stream",
     "text": [
      "[4, 5]\n"
     ]
    }
   ],
   "source": [
    "# a specific condition is given.\n",
    "print(list(filter(lambda x:x>3,n))) \n",
    "# whatever the condtion is met only that elements is printed"
   ]
  },
  {
   "cell_type": "code",
   "execution_count": 29,
   "id": "4fb4d586-0095-418a-98ff-a2c7864b57cb",
   "metadata": {},
   "outputs": [
    {
     "name": "stdout",
     "output_type": "stream",
     "text": [
      "['d', 'h', 'a', 'r', 's', 'h', 'i', 'n', 'i']\n",
      "['a', 'g', 'n', 'e', 's']\n",
      "['v', 'a', 'r', 's', 'h', 'i', 't', 'h', 'a']\n"
     ]
    }
   ],
   "source": [
    "names=['DHARSHINI','AGNES','VARSHITHA']\n",
    "lower=lambda x:x.lower()\n",
    "for n in names:\n",
    "    print(list(map(lower,n)))   "
   ]
  },
  {
   "cell_type": "code",
   "execution_count": 1,
   "id": "fa426771-3324-41d9-b7d8-6218085856cc",
   "metadata": {},
   "outputs": [
    {
     "name": "stdout",
     "output_type": "stream",
     "text": [
      "['sushank', 'n', 'sn']\n"
     ]
    }
   ],
   "source": [
    "names=['Sushank','N','SN']\n",
    "lower=lambda x:x.lower()\n",
    "print(list(map(lower,names)))   "
   ]
  },
  {
   "cell_type": "code",
   "execution_count": 31,
   "id": "ce721726-b9a2-419b-bf0f-05e11c34a5f1",
   "metadata": {},
   "outputs": [
    {
     "name": "stdout",
     "output_type": "stream",
     "text": [
      "15\n"
     ]
    }
   ],
   "source": [
    "num=[1,2,3,4,5]\n",
    "from functools import reduce\n",
    "print(reduce(lambda x,y: x+y,num)) # cummulative effect is happening becauce of reduce function\n",
    "# it takes one element and adds it with the existing element."
   ]
  },
  {
   "cell_type": "code",
   "execution_count": null,
   "id": "e75ba329-3eaf-4f98-9cfb-8b2dabf11036",
   "metadata": {},
   "outputs": [],
   "source": []
  }
 ],
 "metadata": {
  "kernelspec": {
   "display_name": "Python 3 (ipykernel)",
   "language": "python",
   "name": "python3"
  },
  "language_info": {
   "codemirror_mode": {
    "name": "ipython",
    "version": 3
   },
   "file_extension": ".py",
   "mimetype": "text/x-python",
   "name": "python",
   "nbconvert_exporter": "python",
   "pygments_lexer": "ipython3",
   "version": "3.12.7"
  }
 },
 "nbformat": 4,
 "nbformat_minor": 5
}
