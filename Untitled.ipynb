{
 "cells": [
  {
   "cell_type": "code",
   "execution_count": 1,
   "id": "edf924e2-3dfe-4d64-8bcf-eb51011581bc",
   "metadata": {},
   "outputs": [],
   "source": [
    "class mypar:\n",
    "    def greet(self):\n",
    "        print(\"Hello,parent class\")"
   ]
  },
  {
   "cell_type": "code",
   "execution_count": 7,
   "id": "a5bbea58-ba9a-4c78-81ab-a27fa3e88306",
   "metadata": {},
   "outputs": [],
   "source": [
    "class emp:\n",
    "    emps=0\n",
    "    raise_amt=1.04\n",
    "    def __init__(self,fn,ln,pay):\n",
    "        self.fn=fn\n",
    "        self.ln=ln\n",
    "        self.pay=pay\n",
    "    emps+-1\n",
    "    def apply_raise(self):\n",
    "        self.pay=int(self.pay*emp.raise_amt)"
   ]
  },
  {
   "cell_type": "code",
   "execution_count": 8,
   "id": "bb572bcf-3a26-4ac0-a370-2c741dadd365",
   "metadata": {},
   "outputs": [],
   "source": [
    "e1=emp('tom','holland',70000)"
   ]
  },
  {
   "cell_type": "code",
   "execution_count": 10,
   "id": "8f523565-ab49-4ab2-9292-e173ffa2b4e2",
   "metadata": {},
   "outputs": [],
   "source": [
    "e2=emp('marco','gallo',50000)"
   ]
  },
  {
   "cell_type": "code",
   "execution_count": 11,
   "id": "5e6200bb-04f0-4361-9712-ea1e1611f32e",
   "metadata": {},
   "outputs": [
    {
     "name": "stdout",
     "output_type": "stream",
     "text": [
      "{'__module__': '__main__', 'emps': 0, 'raise_amt': 1.04, '__init__': <function emp.__init__ at 0x7d27b5c805e0>, 'apply_raise': <function emp.apply_raise at 0x7d27b5c80720>, '__dict__': <attribute '__dict__' of 'emp' objects>, '__weakref__': <attribute '__weakref__' of 'emp' objects>, '__doc__': None}\n"
     ]
    }
   ],
   "source": [
    "print(emp.__dict__)"
   ]
  },
  {
   "cell_type": "code",
   "execution_count": 12,
   "id": "981bddbe-193a-49ff-a296-6ef7d7f310a9",
   "metadata": {},
   "outputs": [
    {
     "name": "stdout",
     "output_type": "stream",
     "text": [
      "70000\n"
     ]
    }
   ],
   "source": [
    "print(e1.pay)"
   ]
  },
  {
   "cell_type": "code",
   "execution_count": 13,
   "id": "ebafb841-a771-49b9-9086-9c3475bb9fda",
   "metadata": {},
   "outputs": [
    {
     "name": "stdout",
     "output_type": "stream",
     "text": [
      "1.04\n"
     ]
    }
   ],
   "source": [
    "print(e1.raise_amt)"
   ]
  },
  {
   "cell_type": "code",
   "execution_count": 14,
   "id": "c25bd340-e3d9-47a3-86b2-fdacb60b8be1",
   "metadata": {},
   "outputs": [
    {
     "name": "stdout",
     "output_type": "stream",
     "text": [
      "<bound method emp.apply_raise of <__main__.emp object at 0x7d27cc25d970>>\n"
     ]
    }
   ],
   "source": [
    "print(e1.apply_raise)"
   ]
  },
  {
   "cell_type": "code",
   "execution_count": 16,
   "id": "46c9c8a0-dc76-43ec-975d-367f945c7934",
   "metadata": {},
   "outputs": [
    {
     "name": "stdout",
     "output_type": "stream",
     "text": [
      "None\n"
     ]
    }
   ],
   "source": [
    "print(e1.apply_raise())"
   ]
  },
  {
   "cell_type": "code",
   "execution_count": 20,
   "id": "357633ce-5812-43c5-9646-08c8baea1bb4",
   "metadata": {},
   "outputs": [
    {
     "name": "stdout",
     "output_type": "stream",
     "text": [
      "72800\n"
     ]
    }
   ],
   "source": [
    "print(e1.pay)"
   ]
  },
  {
   "cell_type": "code",
   "execution_count": 21,
   "id": "3abe48ed-7032-45e8-984b-9a7bf77d1d2a",
   "metadata": {},
   "outputs": [
    {
     "name": "stdout",
     "output_type": "stream",
     "text": [
      "None\n"
     ]
    }
   ],
   "source": [
    "print(emp.apply_raise(e1))"
   ]
  },
  {
   "cell_type": "code",
   "execution_count": 22,
   "id": "e9edcd99-2d52-4c35-8fef-243599da6074",
   "metadata": {},
   "outputs": [
    {
     "name": "stdout",
     "output_type": "stream",
     "text": [
      "50000\n"
     ]
    }
   ],
   "source": [
    "print(e2.pay)"
   ]
  },
  {
   "cell_type": "code",
   "execution_count": 23,
   "id": "6bb6443a-f0cd-4784-9143-7f0aae86b7c7",
   "metadata": {},
   "outputs": [],
   "source": [
    "e2.apply_raise()"
   ]
  },
  {
   "cell_type": "code",
   "execution_count": 24,
   "id": "f5829fcc-5107-4c27-84f9-1e7e6b505150",
   "metadata": {},
   "outputs": [
    {
     "name": "stdout",
     "output_type": "stream",
     "text": [
      "52000\n"
     ]
    }
   ],
   "source": [
    "print(e2.pay)"
   ]
  },
  {
   "cell_type": "code",
   "execution_count": 26,
   "id": "49619153-d252-4399-b389-2fec8836e9ca",
   "metadata": {},
   "outputs": [
    {
     "name": "stdout",
     "output_type": "stream",
     "text": [
      "Hello,parent class\n",
      "Hello,child class\n"
     ]
    }
   ],
   "source": [
    "class mypar:\n",
    "    def greet(self):\n",
    "        print(\"Hello,parent class\")\n",
    "\n",
    "class mych(mypar):\n",
    "    def greet(self):\n",
    "        super().greet()\n",
    "        print(\"Hello,child class\")\n",
    "obj=mych()\n",
    "obj.greet()"
   ]
  },
  {
   "cell_type": "code",
   "execution_count": 34,
   "id": "42aba498-df5b-4a78-84fa-7089ee1f8bdf",
   "metadata": {},
   "outputs": [
    {
     "name": "stdout",
     "output_type": "stream",
     "text": [
      "1\n",
      "1\n"
     ]
    }
   ],
   "source": [
    "class myemp(emp):\n",
    "    pass\n",
    "ob=myemp('Sushank','Sushi',1)\n",
    "print(ob.pay)\n",
    "ob.apply_raise()\n",
    "print(ob.pay)"
   ]
  },
  {
   "cell_type": "code",
   "execution_count": null,
   "id": "39cff457-0aa6-49ee-902b-73d0254888ca",
   "metadata": {},
   "outputs": [],
   "source": [
    "class A:\n",
    "    def func"
   ]
  }
 ],
 "metadata": {
  "kernelspec": {
   "display_name": "Python 3 (ipykernel)",
   "language": "python",
   "name": "python3"
  },
  "language_info": {
   "codemirror_mode": {
    "name": "ipython",
    "version": 3
   },
   "file_extension": ".py",
   "mimetype": "text/x-python",
   "name": "python",
   "nbconvert_exporter": "python",
   "pygments_lexer": "ipython3",
   "version": "3.12.4"
  }
 },
 "nbformat": 4,
 "nbformat_minor": 5
}
