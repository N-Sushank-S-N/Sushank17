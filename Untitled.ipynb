{
 "cells": [
  {
   "cell_type": "code",
   "execution_count": 1,
   "id": "bf3e7523-0c0d-44ff-bb11-d84a8aa990f4",
   "metadata": {},
   "outputs": [
    {
     "name": "stdin",
     "output_type": "stream",
     "text": [
      "Which countries or cities would you like to visit?  paris\n",
      "How many days do you plan to travel?  3\n",
      "Preferred travel start and end dates?  2/9/22 5/9/22\n",
      "Your purpose on the visit?  chuma\n",
      "How much is your approximate budget on travel?  1000000\n",
      "What accommodation do you prefer?  hotel\n",
      "What are the activities you're interested in (hiking, beach, etc.)?  beach\n",
      "Who are you travelling with (solo, couple, family, etc.)?  solo\n",
      "Preferred transport (van, bus, bike, etc.)?  bike\n",
      "Any medical or dietary restrictions?  nope\n"
     ]
    },
    {
     "name": "stdout",
     "output_type": "stream",
     "text": [
      "\n",
      "Client Travel Preferences:\n",
      "Client 1 : ['paris', '3', '2/9/22 5/9/22', 'chuma', '1000000', 'hotel', 'beach', 'solo', 'bike', 'nope']\n"
     ]
    }
   ],
   "source": [
    "# Initialize list to hold all client data\n",
    "client_data = []\n",
    "\n",
    "# Function to collect one client's travel preferences\n",
    "def collect_client_info():\n",
    "    client = []  # List to hold one client's answers\n",
    "\n",
    "    # Questions\n",
    "    destination = input(\"Which countries or cities would you like to visit? \")\n",
    "    duration = input(\"How many days do you plan to travel? \")\n",
    "    dates = input(\"Preferred travel start and end dates? \")\n",
    "    purpose = input(\"Your purpose on the visit? \")\n",
    "    budget = input(\"How much is your approximate budget on travel? \")\n",
    "    accomodation = input(\"What accommodation do you prefer? \")\n",
    "    activities = input(\"What are the activities you're interested in (hiking, beach, etc.)? \")\n",
    "    companion = input(\"Who are you travelling with (solo, couple, family, etc.)? \")\n",
    "    transport = input(\"Preferred transport (van, bus, bike, etc.)? \")\n",
    "    restrictions = input(\"Any medical or dietary restrictions? \")\n",
    "\n",
    "    # Append answers to client's list\n",
    "    client.extend([destination, duration, dates, purpose, budget,\n",
    "                   accomodation, activities, companion, transport, restrictions])\n",
    "\n",
    "    # Add client to main list\n",
    "    client_data.append(client)\n",
    "\n",
    "# Call the function\n",
    "collect_client_info()\n",
    "\n",
    "# Display all collected data\n",
    "print(\"\\nClient Travel Preferences:\")\n",
    "for i, client in enumerate(client_data, 1):\n",
    "    print(f\"Client {i} : {client}\")\n"
   ]
  },
  {
   "cell_type": "code",
   "execution_count": null,
   "id": "50d3dee6-1892-4b91-ac52-82b5e98d65a0",
   "metadata": {},
   "outputs": [],
   "source": []
  }
 ],
 "metadata": {
  "kernelspec": {
   "display_name": "Python 3 (ipykernel)",
   "language": "python",
   "name": "python3"
  },
  "language_info": {
   "codemirror_mode": {
    "name": "ipython",
    "version": 3
   },
   "file_extension": ".py",
   "mimetype": "text/x-python",
   "name": "python",
   "nbconvert_exporter": "python",
   "pygments_lexer": "ipython3",
   "version": "3.12.7"
  }
 },
 "nbformat": 4,
 "nbformat_minor": 5
}
